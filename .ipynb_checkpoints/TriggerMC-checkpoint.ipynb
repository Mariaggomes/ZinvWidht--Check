{
 "cells": [
  {
   "cell_type": "code",
   "execution_count": 1,
   "id": "c726c14a-69d5-4d4f-90c3-07572cb2f276",
   "metadata": {},
   "outputs": [],
   "source": [
    "# Import essential libraries for data analysis and visualization\n",
    "import numpy as np                  \n",
    "import matplotlib.pylab as plt      \n",
    "import pandas as pd                 \n",
    "import awkward as ak                \n",
    "import uproot                       \n",
    "\n",
    "import vector                       \n",
    "vector.register_awkward()           \n",
    "\n",
    "import requests                     \n",
    "import os                           \n",
    "import time                                                \n",
    "\n",
    "# Import utility functions from a custom module for handling specific tasks\n",
    "import dpoa_utilities      \n",
    "from dpoa_utilities import nanoaod_filenames  \n",
    "from dpoa_utilities import get_files_for_dataset  \n",
    "from dpoa_utilities import pretty_print  \n",
    "from dpoa_utilities import build_lumi_mask "
   ]
  },
  {
   "cell_type": "code",
   "execution_count": 2,
   "id": "6d538d01-a7a7-4c66-97c8-dce29b0b8405",
   "metadata": {},
   "outputs": [
    {
     "name": "stdout",
     "output_type": "stream",
     "text": [
      "Met_collision\n",
      "https://opendata.cern.ch/record/30526/files/CMS_Run2016G_MET_NANOAOD_UL2016_MiniAODv2_NanoAODv9-v1_1110000_file_index.txt\n",
      "https://opendata.cern.ch/record/30526/files/CMS_Run2016G_MET_NANOAOD_UL2016_MiniAODv2_NanoAODv9-v1_270000_file_index.txt\n",
      "https://opendata.cern.ch/record/30559/files/CMS_Run2016H_MET_NANOAOD_UL2016_MiniAODv2_NanoAODv9-v1_120000_file_index.txt\n",
      "https://opendata.cern.ch/record/30559/files/CMS_Run2016H_MET_NANOAOD_UL2016_MiniAODv2_NanoAODv9-v1_280000_file_index.txt\n",
      "https://opendata.cern.ch/record/30559/files/CMS_Run2016H_MET_NANOAOD_UL2016_MiniAODv2_NanoAODv9-v1_70000_file_index.txt\n",
      "SingleMuon_collision\n",
      "https://opendata.cern.ch/record/30530/files/CMS_Run2016G_SingleMuon_NANOAOD_UL2016_MiniAODv2_NanoAODv9-v1_130000_file_index.txt\n",
      "https://opendata.cern.ch/record/30530/files/CMS_Run2016G_SingleMuon_NANOAOD_UL2016_MiniAODv2_NanoAODv9-v1_70000_file_index.txt\n",
      "https://opendata.cern.ch/record/30563/files/CMS_Run2016H_SingleMuon_NANOAOD_UL2016_MiniAODv2_NanoAODv9-v1_120000_file_index.txt\n",
      "https://opendata.cern.ch/record/30563/files/CMS_Run2016H_SingleMuon_NANOAOD_UL2016_MiniAODv2_NanoAODv9-v1_1210000_file_index.txt\n",
      "https://opendata.cern.ch/record/30563/files/CMS_Run2016H_SingleMuon_NANOAOD_UL2016_MiniAODv2_NanoAODv9-v1_130000_file_index.txt\n",
      "https://opendata.cern.ch/record/30563/files/CMS_Run2016H_SingleMuon_NANOAOD_UL2016_MiniAODv2_NanoAODv9-v1_280000_file_index.txt\n",
      "https://opendata.cern.ch/record/30563/files/CMS_Run2016H_SingleMuon_NANOAOD_UL2016_MiniAODv2_NanoAODv9-v1_70000_file_index.txt\n",
      "SingleElectron_collision\n",
      "https://opendata.cern.ch/record/30529/files/CMS_Run2016G_SingleElectron_NANOAOD_UL2016_MiniAODv2_NanoAODv9-v1_110000_file_index.txt\n",
      "https://opendata.cern.ch/record/30529/files/CMS_Run2016G_SingleElectron_NANOAOD_UL2016_MiniAODv2_NanoAODv9-v1_260000_file_index.txt\n",
      "https://opendata.cern.ch/record/30529/files/CMS_Run2016G_SingleElectron_NANOAOD_UL2016_MiniAODv2_NanoAODv9-v1_270000_file_index.txt\n",
      "https://opendata.cern.ch/record/30562/files/CMS_Run2016H_SingleElectron_NANOAOD_UL2016_MiniAODv2_NanoAODv9-v1_120000_file_index.txt\n",
      "https://opendata.cern.ch/record/30562/files/CMS_Run2016H_SingleElectron_NANOAOD_UL2016_MiniAODv2_NanoAODv9-v1_270000_file_index.txt\n",
      "https://opendata.cern.ch/record/30562/files/CMS_Run2016H_SingleElectron_NANOAOD_UL2016_MiniAODv2_NanoAODv9-v1_280000_file_index.txt\n",
      "https://opendata.cern.ch/record/30562/files/CMS_Run2016H_SingleElectron_NANOAOD_UL2016_MiniAODv2_NanoAODv9-v1_70000_file_index.txt\n",
      "Z1JetsToNuNu_PtZ-150To250\n",
      "https://opendata.cern.ch/record/73746/files/CMS_mc_RunIISummer20UL16NanoAODv9_Z1JetsToNuNu_M-50_LHEFilterPtZ-150To250_MatchEWPDG20_TuneCP5_13TeV-amcatnloFXFX-pythia8_NANOAODSIM_106X_mcRun2_asymptotic_v17-v1_2430000_file_index.txt\n",
      "https://opendata.cern.ch/record/73746/files/CMS_mc_RunIISummer20UL16NanoAODv9_Z1JetsToNuNu_M-50_LHEFilterPtZ-150To250_MatchEWPDG20_TuneCP5_13TeV-amcatnloFXFX-pythia8_NANOAODSIM_106X_mcRun2_asymptotic_v17-v1_2520000_file_index.txt\n",
      "https://opendata.cern.ch/record/73746/files/CMS_mc_RunIISummer20UL16NanoAODv9_Z1JetsToNuNu_M-50_LHEFilterPtZ-150To250_MatchEWPDG20_TuneCP5_13TeV-amcatnloFXFX-pythia8_NANOAODSIM_106X_mcRun2_asymptotic_v17-v1_2530000_file_index.txt\n",
      "https://opendata.cern.ch/record/73746/files/CMS_mc_RunIISummer20UL16NanoAODv9_Z1JetsToNuNu_M-50_LHEFilterPtZ-150To250_MatchEWPDG20_TuneCP5_13TeV-amcatnloFXFX-pythia8_NANOAODSIM_106X_mcRun2_asymptotic_v17-v1_40000_file_index.txt\n",
      "https://opendata.cern.ch/record/73746/files/CMS_mc_RunIISummer20UL16NanoAODv9_Z1JetsToNuNu_M-50_LHEFilterPtZ-150To250_MatchEWPDG20_TuneCP5_13TeV-amcatnloFXFX-pythia8_NANOAODSIM_106X_mcRun2_asymptotic_v17-v1_50000_file_index.txt\n",
      "Z1JetsToNuNu_PtZ-250To400\n",
      "https://opendata.cern.ch/record/73748/files/CMS_mc_RunIISummer20UL16NanoAODv9_Z1JetsToNuNu_M-50_LHEFilterPtZ-250To400_MatchEWPDG20_TuneCP5_13TeV-amcatnloFXFX-pythia8_NANOAODSIM_106X_mcRun2_asymptotic_v17-v1_2430000_file_index.txt\n",
      "https://opendata.cern.ch/record/73748/files/CMS_mc_RunIISummer20UL16NanoAODv9_Z1JetsToNuNu_M-50_LHEFilterPtZ-250To400_MatchEWPDG20_TuneCP5_13TeV-amcatnloFXFX-pythia8_NANOAODSIM_106X_mcRun2_asymptotic_v17-v1_2520000_file_index.txt\n",
      "https://opendata.cern.ch/record/73748/files/CMS_mc_RunIISummer20UL16NanoAODv9_Z1JetsToNuNu_M-50_LHEFilterPtZ-250To400_MatchEWPDG20_TuneCP5_13TeV-amcatnloFXFX-pythia8_NANOAODSIM_106X_mcRun2_asymptotic_v17-v1_40000_file_index.txt\n",
      "https://opendata.cern.ch/record/73748/files/CMS_mc_RunIISummer20UL16NanoAODv9_Z1JetsToNuNu_M-50_LHEFilterPtZ-250To400_MatchEWPDG20_TuneCP5_13TeV-amcatnloFXFX-pythia8_NANOAODSIM_106X_mcRun2_asymptotic_v17-v1_50000_file_index.txt\n",
      "Z1JetsToNuNu_PtZ-400ToInf\n",
      "https://opendata.cern.ch/record/73750/files/CMS_mc_RunIISummer20UL16NanoAODv9_Z1JetsToNuNu_M-50_LHEFilterPtZ-400ToInf_MatchEWPDG20_TuneCP5_13TeV-amcatnloFXFX-pythia8_NANOAODSIM_106X_mcRun2_asymptotic_v17-v1_2430000_file_index.txt\n",
      "https://opendata.cern.ch/record/73750/files/CMS_mc_RunIISummer20UL16NanoAODv9_Z1JetsToNuNu_M-50_LHEFilterPtZ-400ToInf_MatchEWPDG20_TuneCP5_13TeV-amcatnloFXFX-pythia8_NANOAODSIM_106X_mcRun2_asymptotic_v17-v1_2530000_file_index.txt\n",
      "https://opendata.cern.ch/record/73750/files/CMS_mc_RunIISummer20UL16NanoAODv9_Z1JetsToNuNu_M-50_LHEFilterPtZ-400ToInf_MatchEWPDG20_TuneCP5_13TeV-amcatnloFXFX-pythia8_NANOAODSIM_106X_mcRun2_asymptotic_v17-v1_50000_file_index.txt\n",
      "Z2JetsToNuNu_PtZ-150To250\n",
      "https://opendata.cern.ch/record/73760/files/CMS_mc_RunIISummer20UL16NanoAODv9_Z2JetsToNuNu_M-50_LHEFilterPtZ-150To250_MatchEWPDG20_TuneCP5_13TeV-amcatnloFXFX-pythia8_NANOAODSIM_106X_mcRun2_asymptotic_v17-v2_2430000_file_index.txt\n",
      "https://opendata.cern.ch/record/73760/files/CMS_mc_RunIISummer20UL16NanoAODv9_Z2JetsToNuNu_M-50_LHEFilterPtZ-150To250_MatchEWPDG20_TuneCP5_13TeV-amcatnloFXFX-pythia8_NANOAODSIM_106X_mcRun2_asymptotic_v17-v2_2520000_file_index.txt\n",
      "https://opendata.cern.ch/record/73760/files/CMS_mc_RunIISummer20UL16NanoAODv9_Z2JetsToNuNu_M-50_LHEFilterPtZ-150To250_MatchEWPDG20_TuneCP5_13TeV-amcatnloFXFX-pythia8_NANOAODSIM_106X_mcRun2_asymptotic_v17-v2_2530000_file_index.txt\n",
      "https://opendata.cern.ch/record/73760/files/CMS_mc_RunIISummer20UL16NanoAODv9_Z2JetsToNuNu_M-50_LHEFilterPtZ-150To250_MatchEWPDG20_TuneCP5_13TeV-amcatnloFXFX-pythia8_NANOAODSIM_106X_mcRun2_asymptotic_v17-v2_40000_file_index.txt\n",
      "Z2JetsToNuNu_PtZ-250To400\n",
      "https://opendata.cern.ch/record/73762/files/CMS_mc_RunIISummer20UL16NanoAODv9_Z2JetsToNuNu_M-50_LHEFilterPtZ-250To400_MatchEWPDG20_TuneCP5_13TeV-amcatnloFXFX-pythia8_NANOAODSIM_106X_mcRun2_asymptotic_v17-v2_2430000_file_index.txt\n",
      "https://opendata.cern.ch/record/73762/files/CMS_mc_RunIISummer20UL16NanoAODv9_Z2JetsToNuNu_M-50_LHEFilterPtZ-250To400_MatchEWPDG20_TuneCP5_13TeV-amcatnloFXFX-pythia8_NANOAODSIM_106X_mcRun2_asymptotic_v17-v2_2520000_file_index.txt\n",
      "https://opendata.cern.ch/record/73762/files/CMS_mc_RunIISummer20UL16NanoAODv9_Z2JetsToNuNu_M-50_LHEFilterPtZ-250To400_MatchEWPDG20_TuneCP5_13TeV-amcatnloFXFX-pythia8_NANOAODSIM_106X_mcRun2_asymptotic_v17-v2_2530000_file_index.txt\n",
      "https://opendata.cern.ch/record/73762/files/CMS_mc_RunIISummer20UL16NanoAODv9_Z2JetsToNuNu_M-50_LHEFilterPtZ-250To400_MatchEWPDG20_TuneCP5_13TeV-amcatnloFXFX-pythia8_NANOAODSIM_106X_mcRun2_asymptotic_v17-v2_40000_file_index.txt\n",
      "https://opendata.cern.ch/record/73762/files/CMS_mc_RunIISummer20UL16NanoAODv9_Z2JetsToNuNu_M-50_LHEFilterPtZ-250To400_MatchEWPDG20_TuneCP5_13TeV-amcatnloFXFX-pythia8_NANOAODSIM_106X_mcRun2_asymptotic_v17-v2_50000_file_index.txt\n",
      "Z2JetsToNuNu_PtZ-400ToInf\n",
      "https://opendata.cern.ch/record/73764/files/CMS_mc_RunIISummer20UL16NanoAODv9_Z2JetsToNuNu_M-50_LHEFilterPtZ-400ToInf_MatchEWPDG20_TuneCP5_13TeV-amcatnloFXFX-pythia8_NANOAODSIM_106X_mcRun2_asymptotic_v17-v1_2430000_file_index.txt\n",
      "https://opendata.cern.ch/record/73764/files/CMS_mc_RunIISummer20UL16NanoAODv9_Z2JetsToNuNu_M-50_LHEFilterPtZ-400ToInf_MatchEWPDG20_TuneCP5_13TeV-amcatnloFXFX-pythia8_NANOAODSIM_106X_mcRun2_asymptotic_v17-v1_2520000_file_index.txt\n",
      "https://opendata.cern.ch/record/73764/files/CMS_mc_RunIISummer20UL16NanoAODv9_Z2JetsToNuNu_M-50_LHEFilterPtZ-400ToInf_MatchEWPDG20_TuneCP5_13TeV-amcatnloFXFX-pythia8_NANOAODSIM_106X_mcRun2_asymptotic_v17-v1_40000_file_index.txt\n",
      "https://opendata.cern.ch/record/73764/files/CMS_mc_RunIISummer20UL16NanoAODv9_Z2JetsToNuNu_M-50_LHEFilterPtZ-400ToInf_MatchEWPDG20_TuneCP5_13TeV-amcatnloFXFX-pythia8_NANOAODSIM_106X_mcRun2_asymptotic_v17-v1_50000_file_index.txt\n"
     ]
    }
   ],
   "source": [
    "# Download these files\n",
    "for datasetname in nanoaod_filenames.keys():    \n",
    "    print(datasetname)\n",
    "    outfilename = f'FILE_LIST_{datasetname}.txt'\n",
    "\n",
    "    # Remove the file if it exists\n",
    "    try:\n",
    "        os.remove(outfilename)\n",
    "    except OSError:\n",
    "        pass\n",
    "        \n",
    "    for url in nanoaod_filenames[datasetname]:\n",
    "        print(url)\n",
    "        r = requests.get(url, allow_redirects=True)\n",
    "        open(outfilename, 'a').write(r.text)"
   ]
  },
  {
   "cell_type": "code",
   "execution_count": 3,
   "id": "422a8775-0a40-4259-9d27-6973456f16e0",
   "metadata": {},
   "outputs": [
    {
     "name": "stdout",
     "output_type": "stream",
     "text": [
      "['root://eospublic.cern.ch//eos/opendata/cms/mc/RunIISummer20UL16NanoAODv9/Z1JetsToNuNu_M-50_LHEFilterPtZ-250To400_MatchEWPDG20_TuneCP5_13TeV-amcatnloFXFX-pythia8/NANOAODSIM/106X_mcRun2_asymptotic_v17-v1/2430000/92650F48-8201-F44A-8D7D-08F8CD216DA5.root\\n', 'root://eospublic.cern.ch//eos/opendata/cms/mc/RunIISummer20UL16NanoAODv9/Z1JetsToNuNu_M-50_LHEFilterPtZ-250To400_MatchEWPDG20_TuneCP5_13TeV-amcatnloFXFX-pythia8/NANOAODSIM/106X_mcRun2_asymptotic_v17-v1/2520000/CD763593-28D8-804C-BAC8-CD605A056D7A.root\\n', 'root://eospublic.cern.ch//eos/opendata/cms/mc/RunIISummer20UL16NanoAODv9/Z1JetsToNuNu_M-50_LHEFilterPtZ-250To400_MatchEWPDG20_TuneCP5_13TeV-amcatnloFXFX-pythia8/NANOAODSIM/106X_mcRun2_asymptotic_v17-v1/2520000/D02D9229-78B1-934B-A34C-D54EBFC580D5.root\\n', 'root://eospublic.cern.ch//eos/opendata/cms/mc/RunIISummer20UL16NanoAODv9/Z1JetsToNuNu_M-50_LHEFilterPtZ-250To400_MatchEWPDG20_TuneCP5_13TeV-amcatnloFXFX-pythia8/NANOAODSIM/106X_mcRun2_asymptotic_v17-v1/40000/3C2378D3-C802-A042-AF62-19A57CFC4F9F.root\\n', 'root://eospublic.cern.ch//eos/opendata/cms/mc/RunIISummer20UL16NanoAODv9/Z1JetsToNuNu_M-50_LHEFilterPtZ-250To400_MatchEWPDG20_TuneCP5_13TeV-amcatnloFXFX-pythia8/NANOAODSIM/106X_mcRun2_asymptotic_v17-v1/40000/511420A8-A9B2-2943-99E1-60B6AE511E0F.root\\n', 'root://eospublic.cern.ch//eos/opendata/cms/mc/RunIISummer20UL16NanoAODv9/Z1JetsToNuNu_M-50_LHEFilterPtZ-250To400_MatchEWPDG20_TuneCP5_13TeV-amcatnloFXFX-pythia8/NANOAODSIM/106X_mcRun2_asymptotic_v17-v1/40000/58636A79-368F-8B4F-8FD4-15F3762AC7D8.root\\n', 'root://eospublic.cern.ch//eos/opendata/cms/mc/RunIISummer20UL16NanoAODv9/Z1JetsToNuNu_M-50_LHEFilterPtZ-250To400_MatchEWPDG20_TuneCP5_13TeV-amcatnloFXFX-pythia8/NANOAODSIM/106X_mcRun2_asymptotic_v17-v1/40000/E5C5CD92-B958-5E4C-8C67-E3CD8361C394.root\\n', 'root://eospublic.cern.ch//eos/opendata/cms/mc/RunIISummer20UL16NanoAODv9/Z1JetsToNuNu_M-50_LHEFilterPtZ-250To400_MatchEWPDG20_TuneCP5_13TeV-amcatnloFXFX-pythia8/NANOAODSIM/106X_mcRun2_asymptotic_v17-v1/50000/2985E2D2-0663-8B49-A11A-BFFCCA437995.root\\n', 'root://eospublic.cern.ch//eos/opendata/cms/mc/RunIISummer20UL16NanoAODv9/Z1JetsToNuNu_M-50_LHEFilterPtZ-250To400_MatchEWPDG20_TuneCP5_13TeV-amcatnloFXFX-pythia8/NANOAODSIM/106X_mcRun2_asymptotic_v17-v1/50000/298FA03D-D9D0-0E4F-A5DC-DD490042FB69.root\\n', 'root://eospublic.cern.ch//eos/opendata/cms/mc/RunIISummer20UL16NanoAODv9/Z1JetsToNuNu_M-50_LHEFilterPtZ-250To400_MatchEWPDG20_TuneCP5_13TeV-amcatnloFXFX-pythia8/NANOAODSIM/106X_mcRun2_asymptotic_v17-v1/50000/3BC7B377-DCB8-0F48-873C-42599CD2E346.root\\n', 'root://eospublic.cern.ch//eos/opendata/cms/mc/RunIISummer20UL16NanoAODv9/Z1JetsToNuNu_M-50_LHEFilterPtZ-250To400_MatchEWPDG20_TuneCP5_13TeV-amcatnloFXFX-pythia8/NANOAODSIM/106X_mcRun2_asymptotic_v17-v1/50000/57A7C309-9E4B-3049-9383-86B53BBA0F50.root\\n', 'root://eospublic.cern.ch//eos/opendata/cms/mc/RunIISummer20UL16NanoAODv9/Z1JetsToNuNu_M-50_LHEFilterPtZ-250To400_MatchEWPDG20_TuneCP5_13TeV-amcatnloFXFX-pythia8/NANOAODSIM/106X_mcRun2_asymptotic_v17-v1/50000/6D279775-12BE-FD42-97FE-D9C9D5BE1C47.root\\n', 'root://eospublic.cern.ch//eos/opendata/cms/mc/RunIISummer20UL16NanoAODv9/Z1JetsToNuNu_M-50_LHEFilterPtZ-250To400_MatchEWPDG20_TuneCP5_13TeV-amcatnloFXFX-pythia8/NANOAODSIM/106X_mcRun2_asymptotic_v17-v1/50000/7669C628-9D0C-6940-B561-E329A5738CC9.root\\n', 'root://eospublic.cern.ch//eos/opendata/cms/mc/RunIISummer20UL16NanoAODv9/Z1JetsToNuNu_M-50_LHEFilterPtZ-250To400_MatchEWPDG20_TuneCP5_13TeV-amcatnloFXFX-pythia8/NANOAODSIM/106X_mcRun2_asymptotic_v17-v1/50000/9D5789A1-7A26-7A4E-9BBC-DD2294936F46.root\\n', 'root://eospublic.cern.ch//eos/opendata/cms/mc/RunIISummer20UL16NanoAODv9/Z1JetsToNuNu_M-50_LHEFilterPtZ-250To400_MatchEWPDG20_TuneCP5_13TeV-amcatnloFXFX-pythia8/NANOAODSIM/106X_mcRun2_asymptotic_v17-v1/50000/CED311B8-F8D3-4447-A1F2-05C48431363C.root\\n', 'root://eospublic.cern.ch//eos/opendata/cms/mc/RunIISummer20UL16NanoAODv9/Z1JetsToNuNu_M-50_LHEFilterPtZ-250To400_MatchEWPDG20_TuneCP5_13TeV-amcatnloFXFX-pythia8/NANOAODSIM/106X_mcRun2_asymptotic_v17-v1/50000/E99C8D9C-0F35-3347-A408-84AC7329DB71.root\\n', 'root://eospublic.cern.ch//eos/opendata/cms/mc/RunIISummer20UL16NanoAODv9/Z1JetsToNuNu_M-50_LHEFilterPtZ-250To400_MatchEWPDG20_TuneCP5_13TeV-amcatnloFXFX-pythia8/NANOAODSIM/106X_mcRun2_asymptotic_v17-v1/50000/F85E548F-CC58-1A45-B1CA-B2A2AFA2B94E.root\\n', 'root://eospublic.cern.ch//eos/opendata/cms/mc/RunIISummer20UL16NanoAODv9/Z1JetsToNuNu_M-50_LHEFilterPtZ-250To400_MatchEWPDG20_TuneCP5_13TeV-amcatnloFXFX-pythia8/NANOAODSIM/106X_mcRun2_asymptotic_v17-v1/50000/F8BEB45A-7CA3-134E-BF68-8CDE60E4F59E.root\\n']\n"
     ]
    }
   ],
   "source": [
    "# Retrieve a list of filenames for the dataset \"ttsemilep\"\n",
    "filenames = get_files_for_dataset(\"Z1JetsToNuNu_PtZ-250To400\", random=True)\n",
    "\n",
    "print(filenames)"
   ]
  },
  {
   "cell_type": "code",
   "execution_count": 4,
   "id": "b9554ee9-5e42-4564-bb4f-fac5c8b069c2",
   "metadata": {},
   "outputs": [
    {
     "name": "stdout",
     "output_type": "stream",
     "text": [
      "Successfully opened root://eospublic.cern.ch//eos/opendata/cms/mc/RunIISummer20UL16NanoAODv9/Z1JetsToNuNu_M-50_LHEFilterPtZ-250To400_MatchEWPDG20_TuneCP5_13TeV-amcatnloFXFX-pythia8/NANOAODSIM/106X_mcRun2_asymptotic_v17-v1/2430000/92650F48-8201-F44A-8D7D-08F8CD216DA5.root\n",
      "\n",
      "Successfully opened root://eospublic.cern.ch//eos/opendata/cms/mc/RunIISummer20UL16NanoAODv9/Z1JetsToNuNu_M-50_LHEFilterPtZ-250To400_MatchEWPDG20_TuneCP5_13TeV-amcatnloFXFX-pythia8/NANOAODSIM/106X_mcRun2_asymptotic_v17-v1/2520000/CD763593-28D8-804C-BAC8-CD605A056D7A.root\n",
      "\n",
      "Successfully opened root://eospublic.cern.ch//eos/opendata/cms/mc/RunIISummer20UL16NanoAODv9/Z1JetsToNuNu_M-50_LHEFilterPtZ-250To400_MatchEWPDG20_TuneCP5_13TeV-amcatnloFXFX-pythia8/NANOAODSIM/106X_mcRun2_asymptotic_v17-v1/2520000/D02D9229-78B1-934B-A34C-D54EBFC580D5.root\n",
      "\n",
      "Successfully opened root://eospublic.cern.ch//eos/opendata/cms/mc/RunIISummer20UL16NanoAODv9/Z1JetsToNuNu_M-50_LHEFilterPtZ-250To400_MatchEWPDG20_TuneCP5_13TeV-amcatnloFXFX-pythia8/NANOAODSIM/106X_mcRun2_asymptotic_v17-v1/40000/3C2378D3-C802-A042-AF62-19A57CFC4F9F.root\n",
      "\n",
      "Successfully opened root://eospublic.cern.ch//eos/opendata/cms/mc/RunIISummer20UL16NanoAODv9/Z1JetsToNuNu_M-50_LHEFilterPtZ-250To400_MatchEWPDG20_TuneCP5_13TeV-amcatnloFXFX-pythia8/NANOAODSIM/106X_mcRun2_asymptotic_v17-v1/40000/511420A8-A9B2-2943-99E1-60B6AE511E0F.root\n",
      "\n",
      "Successfully opened root://eospublic.cern.ch//eos/opendata/cms/mc/RunIISummer20UL16NanoAODv9/Z1JetsToNuNu_M-50_LHEFilterPtZ-250To400_MatchEWPDG20_TuneCP5_13TeV-amcatnloFXFX-pythia8/NANOAODSIM/106X_mcRun2_asymptotic_v17-v1/40000/58636A79-368F-8B4F-8FD4-15F3762AC7D8.root\n",
      "\n",
      "Successfully opened root://eospublic.cern.ch//eos/opendata/cms/mc/RunIISummer20UL16NanoAODv9/Z1JetsToNuNu_M-50_LHEFilterPtZ-250To400_MatchEWPDG20_TuneCP5_13TeV-amcatnloFXFX-pythia8/NANOAODSIM/106X_mcRun2_asymptotic_v17-v1/40000/E5C5CD92-B958-5E4C-8C67-E3CD8361C394.root\n",
      "\n",
      "Successfully opened root://eospublic.cern.ch//eos/opendata/cms/mc/RunIISummer20UL16NanoAODv9/Z1JetsToNuNu_M-50_LHEFilterPtZ-250To400_MatchEWPDG20_TuneCP5_13TeV-amcatnloFXFX-pythia8/NANOAODSIM/106X_mcRun2_asymptotic_v17-v1/50000/2985E2D2-0663-8B49-A11A-BFFCCA437995.root\n",
      "\n",
      "Successfully opened root://eospublic.cern.ch//eos/opendata/cms/mc/RunIISummer20UL16NanoAODv9/Z1JetsToNuNu_M-50_LHEFilterPtZ-250To400_MatchEWPDG20_TuneCP5_13TeV-amcatnloFXFX-pythia8/NANOAODSIM/106X_mcRun2_asymptotic_v17-v1/50000/298FA03D-D9D0-0E4F-A5DC-DD490042FB69.root\n",
      "\n",
      "Successfully opened root://eospublic.cern.ch//eos/opendata/cms/mc/RunIISummer20UL16NanoAODv9/Z1JetsToNuNu_M-50_LHEFilterPtZ-250To400_MatchEWPDG20_TuneCP5_13TeV-amcatnloFXFX-pythia8/NANOAODSIM/106X_mcRun2_asymptotic_v17-v1/50000/3BC7B377-DCB8-0F48-873C-42599CD2E346.root\n",
      "\n",
      "Successfully opened root://eospublic.cern.ch//eos/opendata/cms/mc/RunIISummer20UL16NanoAODv9/Z1JetsToNuNu_M-50_LHEFilterPtZ-250To400_MatchEWPDG20_TuneCP5_13TeV-amcatnloFXFX-pythia8/NANOAODSIM/106X_mcRun2_asymptotic_v17-v1/50000/57A7C309-9E4B-3049-9383-86B53BBA0F50.root\n",
      "\n",
      "Successfully opened root://eospublic.cern.ch//eos/opendata/cms/mc/RunIISummer20UL16NanoAODv9/Z1JetsToNuNu_M-50_LHEFilterPtZ-250To400_MatchEWPDG20_TuneCP5_13TeV-amcatnloFXFX-pythia8/NANOAODSIM/106X_mcRun2_asymptotic_v17-v1/50000/6D279775-12BE-FD42-97FE-D9C9D5BE1C47.root\n",
      "\n",
      "Successfully opened root://eospublic.cern.ch//eos/opendata/cms/mc/RunIISummer20UL16NanoAODv9/Z1JetsToNuNu_M-50_LHEFilterPtZ-250To400_MatchEWPDG20_TuneCP5_13TeV-amcatnloFXFX-pythia8/NANOAODSIM/106X_mcRun2_asymptotic_v17-v1/50000/7669C628-9D0C-6940-B561-E329A5738CC9.root\n",
      "\n",
      "Successfully opened root://eospublic.cern.ch//eos/opendata/cms/mc/RunIISummer20UL16NanoAODv9/Z1JetsToNuNu_M-50_LHEFilterPtZ-250To400_MatchEWPDG20_TuneCP5_13TeV-amcatnloFXFX-pythia8/NANOAODSIM/106X_mcRun2_asymptotic_v17-v1/50000/9D5789A1-7A26-7A4E-9BBC-DD2294936F46.root\n",
      "\n",
      "Successfully opened root://eospublic.cern.ch//eos/opendata/cms/mc/RunIISummer20UL16NanoAODv9/Z1JetsToNuNu_M-50_LHEFilterPtZ-250To400_MatchEWPDG20_TuneCP5_13TeV-amcatnloFXFX-pythia8/NANOAODSIM/106X_mcRun2_asymptotic_v17-v1/50000/CED311B8-F8D3-4447-A1F2-05C48431363C.root\n",
      "\n",
      "Successfully opened root://eospublic.cern.ch//eos/opendata/cms/mc/RunIISummer20UL16NanoAODv9/Z1JetsToNuNu_M-50_LHEFilterPtZ-250To400_MatchEWPDG20_TuneCP5_13TeV-amcatnloFXFX-pythia8/NANOAODSIM/106X_mcRun2_asymptotic_v17-v1/50000/E99C8D9C-0F35-3347-A408-84AC7329DB71.root\n",
      "\n",
      "Successfully opened root://eospublic.cern.ch//eos/opendata/cms/mc/RunIISummer20UL16NanoAODv9/Z1JetsToNuNu_M-50_LHEFilterPtZ-250To400_MatchEWPDG20_TuneCP5_13TeV-amcatnloFXFX-pythia8/NANOAODSIM/106X_mcRun2_asymptotic_v17-v1/50000/F85E548F-CC58-1A45-B1CA-B2A2AFA2B94E.root\n",
      "\n",
      "Successfully opened root://eospublic.cern.ch//eos/opendata/cms/mc/RunIISummer20UL16NanoAODv9/Z1JetsToNuNu_M-50_LHEFilterPtZ-250To400_MatchEWPDG20_TuneCP5_13TeV-amcatnloFXFX-pythia8/NANOAODSIM/106X_mcRun2_asymptotic_v17-v1/50000/F8BEB45A-7CA3-134E-BF68-8CDE60E4F59E.root\n",
      "\n",
      "Total number of events: 9182520\n"
     ]
    }
   ],
   "source": [
    "total_events = 0\n",
    "\n",
    "# Opening each file in the filenames list\n",
    "for filename in filenames:\n",
    "    try:\n",
    "        # Opening the file with uproot\n",
    "        f = uproot.open(filename)\n",
    "\n",
    "        if \"Events\" in f:\n",
    "            \n",
    "            events = f[\"Events\"]\n",
    "            nevents = events.num_entries\n",
    "            total_events += nevents\n",
    "            \n",
    "        # Successful opening of file\n",
    "        print(f\"Successfully opened {filename}\")\n",
    "    \n",
    "    except Exception as e:\n",
    "        # If there is an error when opening the file, captures and prints the message\n",
    "        print(f\"Error opening {filename}: {e}\")\n",
    "print(f\"Total number of events: {total_events}\")"
   ]
  },
  {
   "cell_type": "code",
   "execution_count": 5,
   "id": "d36ad87a-6e3d-4975-a3d6-5a10ac4070a1",
   "metadata": {},
   "outputs": [
    {
     "name": "stdout",
     "output_type": "stream",
     "text": [
      "HLT_PFMETNoMu90_PFMHTNoMu90_IDTight      HLT_PFMETNoMu100_PFMHTNoMu100_IDTight    \n",
      "HLT_PFMETNoMu110_PFMHTNoMu110_IDTight    HLT_PFMETNoMu120_PFMHTNoMu120_IDTight    \n"
     ]
    }
   ],
   "source": [
    "pretty_print(events.keys(), fmt='40s', require=['HLT_PFMETNoMu'])"
   ]
  },
  {
   "cell_type": "code",
   "execution_count": 6,
   "id": "1e5e4905-0594-43e3-8493-f6c0e60695ea",
   "metadata": {},
   "outputs": [
    {
     "name": "stdout",
     "output_type": "stream",
     "text": [
      "HLT_PFMET170_NotCleaned                  HLT_PFMET170_NoiseCleaned                \n",
      "HLT_PFMET170_HBHECleaned                 HLT_PFMET170_JetIdCleaned                \n",
      "HLT_PFMET170_BeamHaloCleaned             HLT_PFMET170_HBHE_BeamHaloCleaned        \n"
     ]
    }
   ],
   "source": [
    "pretty_print(events.keys(), fmt='40s', require=['HLT_PFMET170'])"
   ]
  },
  {
   "cell_type": "code",
   "execution_count": 7,
   "id": "efbbcf09-6a65-4130-9727-f1d7e00e8f2d",
   "metadata": {},
   "outputs": [
    {
     "name": "stdout",
     "output_type": "stream",
     "text": [
      "HLT_MET75_IsoTrk50                       \n"
     ]
    }
   ],
   "source": [
    "pretty_print(events.keys(), fmt='40s', require=['HLT_MET75_IsoTrk50'])"
   ]
  }
 ],
 "metadata": {
  "kernelspec": {
   "display_name": "Python 3 (ipykernel)",
   "language": "python",
   "name": "python3"
  },
  "language_info": {
   "codemirror_mode": {
    "name": "ipython",
    "version": 3
   },
   "file_extension": ".py",
   "mimetype": "text/x-python",
   "name": "python",
   "nbconvert_exporter": "python",
   "pygments_lexer": "ipython3",
   "version": "3.10.12"
  }
 },
 "nbformat": 4,
 "nbformat_minor": 5
}
