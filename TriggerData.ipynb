{
 "cells": [
  {
   "cell_type": "code",
   "execution_count": 1,
   "id": "c726c14a-69d5-4d4f-90c3-07572cb2f276",
   "metadata": {},
   "outputs": [],
   "source": [
    "# Import essential libraries for data analysis and visualization\n",
    "import numpy as np                  \n",
    "import matplotlib.pylab as plt      \n",
    "import pandas as pd                 \n",
    "import awkward as ak                \n",
    "import uproot                       \n",
    "\n",
    "import vector                       \n",
    "vector.register_awkward()           \n",
    "\n",
    "import requests                     \n",
    "import os                           \n",
    "import time                                                \n",
    "\n",
    "# Import utility functions from a custom module for handling specific tasks\n",
    "import dpoa_utilities      \n",
    "from dpoa_utilities import nanoaod_filenames  \n",
    "from dpoa_utilities import get_files_for_dataset  \n",
    "from dpoa_utilities import pretty_print  \n",
    "from dpoa_utilities import build_lumi_mask "
   ]
  },
  {
   "cell_type": "code",
   "execution_count": 2,
   "id": "6d538d01-a7a7-4c66-97c8-dce29b0b8405",
   "metadata": {},
   "outputs": [
    {
     "name": "stdout",
     "output_type": "stream",
     "text": [
      "Met_collision\n",
      "https://opendata.cern.ch/record/30526/files/CMS_Run2016G_MET_NANOAOD_UL2016_MiniAODv2_NanoAODv9-v1_1110000_file_index.txt\n",
      "https://opendata.cern.ch/record/30526/files/CMS_Run2016G_MET_NANOAOD_UL2016_MiniAODv2_NanoAODv9-v1_270000_file_index.txt\n",
      "https://opendata.cern.ch/record/30559/files/CMS_Run2016H_MET_NANOAOD_UL2016_MiniAODv2_NanoAODv9-v1_120000_file_index.txt\n",
      "https://opendata.cern.ch/record/30559/files/CMS_Run2016H_MET_NANOAOD_UL2016_MiniAODv2_NanoAODv9-v1_280000_file_index.txt\n",
      "https://opendata.cern.ch/record/30559/files/CMS_Run2016H_MET_NANOAOD_UL2016_MiniAODv2_NanoAODv9-v1_70000_file_index.txt\n",
      "SingleMuon_collision\n",
      "https://opendata.cern.ch/record/30530/files/CMS_Run2016G_SingleMuon_NANOAOD_UL2016_MiniAODv2_NanoAODv9-v1_130000_file_index.txt\n",
      "https://opendata.cern.ch/record/30530/files/CMS_Run2016G_SingleMuon_NANOAOD_UL2016_MiniAODv2_NanoAODv9-v1_70000_file_index.txt\n",
      "https://opendata.cern.ch/record/30563/files/CMS_Run2016H_SingleMuon_NANOAOD_UL2016_MiniAODv2_NanoAODv9-v1_120000_file_index.txt\n",
      "https://opendata.cern.ch/record/30563/files/CMS_Run2016H_SingleMuon_NANOAOD_UL2016_MiniAODv2_NanoAODv9-v1_1210000_file_index.txt\n",
      "https://opendata.cern.ch/record/30563/files/CMS_Run2016H_SingleMuon_NANOAOD_UL2016_MiniAODv2_NanoAODv9-v1_130000_file_index.txt\n",
      "https://opendata.cern.ch/record/30563/files/CMS_Run2016H_SingleMuon_NANOAOD_UL2016_MiniAODv2_NanoAODv9-v1_280000_file_index.txt\n",
      "https://opendata.cern.ch/record/30563/files/CMS_Run2016H_SingleMuon_NANOAOD_UL2016_MiniAODv2_NanoAODv9-v1_70000_file_index.txt\n",
      "SingleElectron_collision\n",
      "https://opendata.cern.ch/record/30529/files/CMS_Run2016G_SingleElectron_NANOAOD_UL2016_MiniAODv2_NanoAODv9-v1_110000_file_index.txt\n",
      "https://opendata.cern.ch/record/30529/files/CMS_Run2016G_SingleElectron_NANOAOD_UL2016_MiniAODv2_NanoAODv9-v1_260000_file_index.txt\n",
      "https://opendata.cern.ch/record/30529/files/CMS_Run2016G_SingleElectron_NANOAOD_UL2016_MiniAODv2_NanoAODv9-v1_270000_file_index.txt\n",
      "https://opendata.cern.ch/record/30562/files/CMS_Run2016H_SingleElectron_NANOAOD_UL2016_MiniAODv2_NanoAODv9-v1_120000_file_index.txt\n",
      "https://opendata.cern.ch/record/30562/files/CMS_Run2016H_SingleElectron_NANOAOD_UL2016_MiniAODv2_NanoAODv9-v1_270000_file_index.txt\n",
      "https://opendata.cern.ch/record/30562/files/CMS_Run2016H_SingleElectron_NANOAOD_UL2016_MiniAODv2_NanoAODv9-v1_280000_file_index.txt\n",
      "https://opendata.cern.ch/record/30562/files/CMS_Run2016H_SingleElectron_NANOAOD_UL2016_MiniAODv2_NanoAODv9-v1_70000_file_index.txt\n",
      "Z1JetsToNuNu_PtZ-150To250\n",
      "https://opendata.cern.ch/record/73746/files/CMS_mc_RunIISummer20UL16NanoAODv9_Z1JetsToNuNu_M-50_LHEFilterPtZ-150To250_MatchEWPDG20_TuneCP5_13TeV-amcatnloFXFX-pythia8_NANOAODSIM_106X_mcRun2_asymptotic_v17-v1_2430000_file_index.txt\n",
      "https://opendata.cern.ch/record/73746/files/CMS_mc_RunIISummer20UL16NanoAODv9_Z1JetsToNuNu_M-50_LHEFilterPtZ-150To250_MatchEWPDG20_TuneCP5_13TeV-amcatnloFXFX-pythia8_NANOAODSIM_106X_mcRun2_asymptotic_v17-v1_2520000_file_index.txt\n",
      "https://opendata.cern.ch/record/73746/files/CMS_mc_RunIISummer20UL16NanoAODv9_Z1JetsToNuNu_M-50_LHEFilterPtZ-150To250_MatchEWPDG20_TuneCP5_13TeV-amcatnloFXFX-pythia8_NANOAODSIM_106X_mcRun2_asymptotic_v17-v1_2530000_file_index.txt\n",
      "https://opendata.cern.ch/record/73746/files/CMS_mc_RunIISummer20UL16NanoAODv9_Z1JetsToNuNu_M-50_LHEFilterPtZ-150To250_MatchEWPDG20_TuneCP5_13TeV-amcatnloFXFX-pythia8_NANOAODSIM_106X_mcRun2_asymptotic_v17-v1_40000_file_index.txt\n",
      "https://opendata.cern.ch/record/73746/files/CMS_mc_RunIISummer20UL16NanoAODv9_Z1JetsToNuNu_M-50_LHEFilterPtZ-150To250_MatchEWPDG20_TuneCP5_13TeV-amcatnloFXFX-pythia8_NANOAODSIM_106X_mcRun2_asymptotic_v17-v1_50000_file_index.txt\n",
      "Z1JetsToNuNu_PtZ-250To400\n",
      "https://opendata.cern.ch/record/73748/files/CMS_mc_RunIISummer20UL16NanoAODv9_Z1JetsToNuNu_M-50_LHEFilterPtZ-250To400_MatchEWPDG20_TuneCP5_13TeV-amcatnloFXFX-pythia8_NANOAODSIM_106X_mcRun2_asymptotic_v17-v1_2430000_file_index.txt\n",
      "https://opendata.cern.ch/record/73748/files/CMS_mc_RunIISummer20UL16NanoAODv9_Z1JetsToNuNu_M-50_LHEFilterPtZ-250To400_MatchEWPDG20_TuneCP5_13TeV-amcatnloFXFX-pythia8_NANOAODSIM_106X_mcRun2_asymptotic_v17-v1_2520000_file_index.txt\n",
      "https://opendata.cern.ch/record/73748/files/CMS_mc_RunIISummer20UL16NanoAODv9_Z1JetsToNuNu_M-50_LHEFilterPtZ-250To400_MatchEWPDG20_TuneCP5_13TeV-amcatnloFXFX-pythia8_NANOAODSIM_106X_mcRun2_asymptotic_v17-v1_40000_file_index.txt\n",
      "https://opendata.cern.ch/record/73748/files/CMS_mc_RunIISummer20UL16NanoAODv9_Z1JetsToNuNu_M-50_LHEFilterPtZ-250To400_MatchEWPDG20_TuneCP5_13TeV-amcatnloFXFX-pythia8_NANOAODSIM_106X_mcRun2_asymptotic_v17-v1_50000_file_index.txt\n",
      "Z1JetsToNuNu_PtZ-400ToInf\n",
      "https://opendata.cern.ch/record/73750/files/CMS_mc_RunIISummer20UL16NanoAODv9_Z1JetsToNuNu_M-50_LHEFilterPtZ-400ToInf_MatchEWPDG20_TuneCP5_13TeV-amcatnloFXFX-pythia8_NANOAODSIM_106X_mcRun2_asymptotic_v17-v1_2430000_file_index.txt\n",
      "https://opendata.cern.ch/record/73750/files/CMS_mc_RunIISummer20UL16NanoAODv9_Z1JetsToNuNu_M-50_LHEFilterPtZ-400ToInf_MatchEWPDG20_TuneCP5_13TeV-amcatnloFXFX-pythia8_NANOAODSIM_106X_mcRun2_asymptotic_v17-v1_2530000_file_index.txt\n",
      "https://opendata.cern.ch/record/73750/files/CMS_mc_RunIISummer20UL16NanoAODv9_Z1JetsToNuNu_M-50_LHEFilterPtZ-400ToInf_MatchEWPDG20_TuneCP5_13TeV-amcatnloFXFX-pythia8_NANOAODSIM_106X_mcRun2_asymptotic_v17-v1_50000_file_index.txt\n",
      "Z2JetsToNuNu_PtZ-150To250\n",
      "https://opendata.cern.ch/record/73760/files/CMS_mc_RunIISummer20UL16NanoAODv9_Z2JetsToNuNu_M-50_LHEFilterPtZ-150To250_MatchEWPDG20_TuneCP5_13TeV-amcatnloFXFX-pythia8_NANOAODSIM_106X_mcRun2_asymptotic_v17-v2_2430000_file_index.txt\n",
      "https://opendata.cern.ch/record/73760/files/CMS_mc_RunIISummer20UL16NanoAODv9_Z2JetsToNuNu_M-50_LHEFilterPtZ-150To250_MatchEWPDG20_TuneCP5_13TeV-amcatnloFXFX-pythia8_NANOAODSIM_106X_mcRun2_asymptotic_v17-v2_2520000_file_index.txt\n",
      "https://opendata.cern.ch/record/73760/files/CMS_mc_RunIISummer20UL16NanoAODv9_Z2JetsToNuNu_M-50_LHEFilterPtZ-150To250_MatchEWPDG20_TuneCP5_13TeV-amcatnloFXFX-pythia8_NANOAODSIM_106X_mcRun2_asymptotic_v17-v2_2530000_file_index.txt\n",
      "https://opendata.cern.ch/record/73760/files/CMS_mc_RunIISummer20UL16NanoAODv9_Z2JetsToNuNu_M-50_LHEFilterPtZ-150To250_MatchEWPDG20_TuneCP5_13TeV-amcatnloFXFX-pythia8_NANOAODSIM_106X_mcRun2_asymptotic_v17-v2_40000_file_index.txt\n",
      "Z2JetsToNuNu_PtZ-250To400\n",
      "https://opendata.cern.ch/record/73762/files/CMS_mc_RunIISummer20UL16NanoAODv9_Z2JetsToNuNu_M-50_LHEFilterPtZ-250To400_MatchEWPDG20_TuneCP5_13TeV-amcatnloFXFX-pythia8_NANOAODSIM_106X_mcRun2_asymptotic_v17-v2_2430000_file_index.txt\n",
      "https://opendata.cern.ch/record/73762/files/CMS_mc_RunIISummer20UL16NanoAODv9_Z2JetsToNuNu_M-50_LHEFilterPtZ-250To400_MatchEWPDG20_TuneCP5_13TeV-amcatnloFXFX-pythia8_NANOAODSIM_106X_mcRun2_asymptotic_v17-v2_2520000_file_index.txt\n",
      "https://opendata.cern.ch/record/73762/files/CMS_mc_RunIISummer20UL16NanoAODv9_Z2JetsToNuNu_M-50_LHEFilterPtZ-250To400_MatchEWPDG20_TuneCP5_13TeV-amcatnloFXFX-pythia8_NANOAODSIM_106X_mcRun2_asymptotic_v17-v2_2530000_file_index.txt\n",
      "https://opendata.cern.ch/record/73762/files/CMS_mc_RunIISummer20UL16NanoAODv9_Z2JetsToNuNu_M-50_LHEFilterPtZ-250To400_MatchEWPDG20_TuneCP5_13TeV-amcatnloFXFX-pythia8_NANOAODSIM_106X_mcRun2_asymptotic_v17-v2_40000_file_index.txt\n",
      "https://opendata.cern.ch/record/73762/files/CMS_mc_RunIISummer20UL16NanoAODv9_Z2JetsToNuNu_M-50_LHEFilterPtZ-250To400_MatchEWPDG20_TuneCP5_13TeV-amcatnloFXFX-pythia8_NANOAODSIM_106X_mcRun2_asymptotic_v17-v2_50000_file_index.txt\n",
      "Z2JetsToNuNu_PtZ-400ToInf\n",
      "https://opendata.cern.ch/record/73764/files/CMS_mc_RunIISummer20UL16NanoAODv9_Z2JetsToNuNu_M-50_LHEFilterPtZ-400ToInf_MatchEWPDG20_TuneCP5_13TeV-amcatnloFXFX-pythia8_NANOAODSIM_106X_mcRun2_asymptotic_v17-v1_2430000_file_index.txt\n",
      "https://opendata.cern.ch/record/73764/files/CMS_mc_RunIISummer20UL16NanoAODv9_Z2JetsToNuNu_M-50_LHEFilterPtZ-400ToInf_MatchEWPDG20_TuneCP5_13TeV-amcatnloFXFX-pythia8_NANOAODSIM_106X_mcRun2_asymptotic_v17-v1_2520000_file_index.txt\n",
      "https://opendata.cern.ch/record/73764/files/CMS_mc_RunIISummer20UL16NanoAODv9_Z2JetsToNuNu_M-50_LHEFilterPtZ-400ToInf_MatchEWPDG20_TuneCP5_13TeV-amcatnloFXFX-pythia8_NANOAODSIM_106X_mcRun2_asymptotic_v17-v1_40000_file_index.txt\n",
      "https://opendata.cern.ch/record/73764/files/CMS_mc_RunIISummer20UL16NanoAODv9_Z2JetsToNuNu_M-50_LHEFilterPtZ-400ToInf_MatchEWPDG20_TuneCP5_13TeV-amcatnloFXFX-pythia8_NANOAODSIM_106X_mcRun2_asymptotic_v17-v1_50000_file_index.txt\n"
     ]
    }
   ],
   "source": [
    "# Download these files\n",
    "for datasetname in nanoaod_filenames.keys():    \n",
    "    print(datasetname)\n",
    "    outfilename = f'FILE_LIST_{datasetname}.txt'\n",
    "\n",
    "    # Remove the file if it exists\n",
    "    try:\n",
    "        os.remove(outfilename)\n",
    "    except OSError:\n",
    "        pass\n",
    "        \n",
    "    for url in nanoaod_filenames[datasetname]:\n",
    "        print(url)\n",
    "        r = requests.get(url, allow_redirects=True)\n",
    "        open(outfilename, 'a').write(r.text)"
   ]
  },
  {
   "cell_type": "code",
   "execution_count": 3,
   "id": "422a8775-0a40-4259-9d27-6973456f16e0",
   "metadata": {},
   "outputs": [
    {
     "name": "stdout",
     "output_type": "stream",
     "text": [
      "['root://eospublic.cern.ch//eos/opendata/cms/Run2016G/MET/NANOAOD/UL2016_MiniAODv2_NanoAODv9-v1/1110000/498DAB22-324C-A744-9F94-B9403276F9FC.root\\n', 'root://eospublic.cern.ch//eos/opendata/cms/Run2016G/MET/NANOAOD/UL2016_MiniAODv2_NanoAODv9-v1/270000/0485102E-7DF7-8641-BBBB-E76473C455E2.root\\n', 'root://eospublic.cern.ch//eos/opendata/cms/Run2016G/MET/NANOAOD/UL2016_MiniAODv2_NanoAODv9-v1/270000/0AADFEBE-F652-FF44-B0A4-5954D894D308.root\\n', 'root://eospublic.cern.ch//eos/opendata/cms/Run2016G/MET/NANOAOD/UL2016_MiniAODv2_NanoAODv9-v1/270000/0EC589CC-D2FA-1446-9A1E-74ED4A779498.root\\n', 'root://eospublic.cern.ch//eos/opendata/cms/Run2016G/MET/NANOAOD/UL2016_MiniAODv2_NanoAODv9-v1/270000/13526412-8C47-4A49-A11C-CABB7F1C4AF7.root\\n', 'root://eospublic.cern.ch//eos/opendata/cms/Run2016G/MET/NANOAOD/UL2016_MiniAODv2_NanoAODv9-v1/270000/178B2AD7-9C20-9545-925B-5233A1C03B9D.root\\n', 'root://eospublic.cern.ch//eos/opendata/cms/Run2016G/MET/NANOAOD/UL2016_MiniAODv2_NanoAODv9-v1/270000/1ED9314C-5C6A-6F4F-8467-BFD8A8024781.root\\n', 'root://eospublic.cern.ch//eos/opendata/cms/Run2016G/MET/NANOAOD/UL2016_MiniAODv2_NanoAODv9-v1/270000/51DD2D9D-496F-5E4D-BA61-5BBD952631CA.root\\n', 'root://eospublic.cern.ch//eos/opendata/cms/Run2016G/MET/NANOAOD/UL2016_MiniAODv2_NanoAODv9-v1/270000/6A4F07DD-F1D1-164F-B509-AFBA9877D6D5.root\\n', 'root://eospublic.cern.ch//eos/opendata/cms/Run2016G/MET/NANOAOD/UL2016_MiniAODv2_NanoAODv9-v1/270000/7036A078-EB71-3C49-BB25-BBE7F191A606.root\\n', 'root://eospublic.cern.ch//eos/opendata/cms/Run2016G/MET/NANOAOD/UL2016_MiniAODv2_NanoAODv9-v1/270000/88F48B67-EADD-C14F-BC13-19D5E52C28CC.root\\n', 'root://eospublic.cern.ch//eos/opendata/cms/Run2016G/MET/NANOAOD/UL2016_MiniAODv2_NanoAODv9-v1/270000/8E86E692-B324-2F49-9853-5335D371CDA3.root\\n', 'root://eospublic.cern.ch//eos/opendata/cms/Run2016G/MET/NANOAOD/UL2016_MiniAODv2_NanoAODv9-v1/270000/9FD09B43-C8E5-384B-9894-50160B606CEE.root\\n', 'root://eospublic.cern.ch//eos/opendata/cms/Run2016G/MET/NANOAOD/UL2016_MiniAODv2_NanoAODv9-v1/270000/A52A2155-40A4-AB4B-8FCC-60E16E1A6A84.root\\n', 'root://eospublic.cern.ch//eos/opendata/cms/Run2016G/MET/NANOAOD/UL2016_MiniAODv2_NanoAODv9-v1/270000/CE2F8BC4-D806-8041-A857-54CD636BCEC7.root\\n', 'root://eospublic.cern.ch//eos/opendata/cms/Run2016G/MET/NANOAOD/UL2016_MiniAODv2_NanoAODv9-v1/270000/D7A2449E-B767-D846-811E-235735B47141.root\\n', 'root://eospublic.cern.ch//eos/opendata/cms/Run2016G/MET/NANOAOD/UL2016_MiniAODv2_NanoAODv9-v1/270000/D937BCB9-279D-7741-B42C-5CC44E2B0E13.root\\n', 'root://eospublic.cern.ch//eos/opendata/cms/Run2016H/MET/NANOAOD/UL2016_MiniAODv2_NanoAODv9-v1/120000/16D21B45-0388-FF40-8872-B398D762F652.root\\n', 'root://eospublic.cern.ch//eos/opendata/cms/Run2016H/MET/NANOAOD/UL2016_MiniAODv2_NanoAODv9-v1/120000/2F8F8158-EA07-8941-A37E-667E096ADD52.root\\n', 'root://eospublic.cern.ch//eos/opendata/cms/Run2016H/MET/NANOAOD/UL2016_MiniAODv2_NanoAODv9-v1/120000/50BD6B95-B1F7-2B47-832F-4DE7F49D0D5C.root\\n', 'root://eospublic.cern.ch//eos/opendata/cms/Run2016H/MET/NANOAOD/UL2016_MiniAODv2_NanoAODv9-v1/120000/5F1C5DD5-A4DD-4D46-A97D-6A5B987FA8A9.root\\n', 'root://eospublic.cern.ch//eos/opendata/cms/Run2016H/MET/NANOAOD/UL2016_MiniAODv2_NanoAODv9-v1/120000/D30D02C2-C90F-2C4F-9541-D07EC52F79C9.root\\n', 'root://eospublic.cern.ch//eos/opendata/cms/Run2016H/MET/NANOAOD/UL2016_MiniAODv2_NanoAODv9-v1/120000/DFE14C99-E541-7845-8492-714D4F657B15.root\\n', 'root://eospublic.cern.ch//eos/opendata/cms/Run2016H/MET/NANOAOD/UL2016_MiniAODv2_NanoAODv9-v1/120000/E9959B82-5EBA-9E40-87F1-59632DBDF570.root\\n', 'root://eospublic.cern.ch//eos/opendata/cms/Run2016H/MET/NANOAOD/UL2016_MiniAODv2_NanoAODv9-v1/280000/1C037D8D-2092-2448-81A4-BE32B05BFB45.root\\n', 'root://eospublic.cern.ch//eos/opendata/cms/Run2016H/MET/NANOAOD/UL2016_MiniAODv2_NanoAODv9-v1/280000/3CAC8B62-13F2-184C-B88E-01BD3BBE812C.root\\n', 'root://eospublic.cern.ch//eos/opendata/cms/Run2016H/MET/NANOAOD/UL2016_MiniAODv2_NanoAODv9-v1/280000/C6108E30-026E-EB4D-8326-88A49C5E277B.root\\n', 'root://eospublic.cern.ch//eos/opendata/cms/Run2016H/MET/NANOAOD/UL2016_MiniAODv2_NanoAODv9-v1/280000/DEFF16E2-EA65-674C-AD6D-146DCD2FE776.root\\n', 'root://eospublic.cern.ch//eos/opendata/cms/Run2016H/MET/NANOAOD/UL2016_MiniAODv2_NanoAODv9-v1/70000/067468CF-34A9-074B-9DFD-FC2169DCD92D.root\\n', 'root://eospublic.cern.ch//eos/opendata/cms/Run2016H/MET/NANOAOD/UL2016_MiniAODv2_NanoAODv9-v1/70000/0FA6923F-953C-994F-A582-3E802C8E8684.root\\n', 'root://eospublic.cern.ch//eos/opendata/cms/Run2016H/MET/NANOAOD/UL2016_MiniAODv2_NanoAODv9-v1/70000/12EDD013-E22A-F94B-B133-5102325114B5.root\\n', 'root://eospublic.cern.ch//eos/opendata/cms/Run2016H/MET/NANOAOD/UL2016_MiniAODv2_NanoAODv9-v1/70000/1A4206E9-6196-7D4A-AE73-259F1A2626F2.root\\n', 'root://eospublic.cern.ch//eos/opendata/cms/Run2016H/MET/NANOAOD/UL2016_MiniAODv2_NanoAODv9-v1/70000/2C234794-1878-C346-816F-4784E317F724.root\\n', 'root://eospublic.cern.ch//eos/opendata/cms/Run2016H/MET/NANOAOD/UL2016_MiniAODv2_NanoAODv9-v1/70000/31CDC5DA-7D54-9E47-A9DF-BFCC9E234DE6.root\\n', 'root://eospublic.cern.ch//eos/opendata/cms/Run2016H/MET/NANOAOD/UL2016_MiniAODv2_NanoAODv9-v1/70000/38CF021F-30E8-944C-83E8-340150ABED49.root\\n', 'root://eospublic.cern.ch//eos/opendata/cms/Run2016H/MET/NANOAOD/UL2016_MiniAODv2_NanoAODv9-v1/70000/3F5352D0-5ADC-874E-B374-35F8511A6EC0.root\\n', 'root://eospublic.cern.ch//eos/opendata/cms/Run2016H/MET/NANOAOD/UL2016_MiniAODv2_NanoAODv9-v1/70000/4E629771-D94F-5A4C-B823-638CE23ECE2B.root\\n', 'root://eospublic.cern.ch//eos/opendata/cms/Run2016H/MET/NANOAOD/UL2016_MiniAODv2_NanoAODv9-v1/70000/52F8A7F3-6F0A-6C40-AAAB-399D4220213F.root\\n', 'root://eospublic.cern.ch//eos/opendata/cms/Run2016H/MET/NANOAOD/UL2016_MiniAODv2_NanoAODv9-v1/70000/7A2376C1-845E-8244-89F1-87879BCE9E8F.root\\n', 'root://eospublic.cern.ch//eos/opendata/cms/Run2016H/MET/NANOAOD/UL2016_MiniAODv2_NanoAODv9-v1/70000/7AF17841-CB77-6E4D-A6E7-42529320DFFF.root\\n', 'root://eospublic.cern.ch//eos/opendata/cms/Run2016H/MET/NANOAOD/UL2016_MiniAODv2_NanoAODv9-v1/70000/933D24FE-4BCD-3045-AD15-1977310BC953.root\\n', 'root://eospublic.cern.ch//eos/opendata/cms/Run2016H/MET/NANOAOD/UL2016_MiniAODv2_NanoAODv9-v1/70000/9E17CDB0-59D0-CD48-8D05-81CD9F59F457.root\\n', 'root://eospublic.cern.ch//eos/opendata/cms/Run2016H/MET/NANOAOD/UL2016_MiniAODv2_NanoAODv9-v1/70000/A313CD9B-864E-334C-B6DE-192DBE6F889C.root\\n', 'root://eospublic.cern.ch//eos/opendata/cms/Run2016H/MET/NANOAOD/UL2016_MiniAODv2_NanoAODv9-v1/70000/C236EE57-C505-4749-A781-996F90FB4C98.root\\n', 'root://eospublic.cern.ch//eos/opendata/cms/Run2016H/MET/NANOAOD/UL2016_MiniAODv2_NanoAODv9-v1/70000/C42412D7-7FA8-FA44-B636-9DDB703D1559.root\\n', 'root://eospublic.cern.ch//eos/opendata/cms/Run2016H/MET/NANOAOD/UL2016_MiniAODv2_NanoAODv9-v1/70000/D00D290E-BAF2-F540-8891-6C1E35AFE6ED.root\\n', 'root://eospublic.cern.ch//eos/opendata/cms/Run2016H/MET/NANOAOD/UL2016_MiniAODv2_NanoAODv9-v1/70000/D53F3A82-32F2-2C46-B4C3-FD95042ED7DB.root\\n', 'root://eospublic.cern.ch//eos/opendata/cms/Run2016H/MET/NANOAOD/UL2016_MiniAODv2_NanoAODv9-v1/70000/DDC71FF5-7777-6848-B8BB-AFFA9E049F26.root\\n', 'root://eospublic.cern.ch//eos/opendata/cms/Run2016H/MET/NANOAOD/UL2016_MiniAODv2_NanoAODv9-v1/70000/EEFFDC8A-F1A3-3A4D-BF9B-43406F3C81ED.root\\n']\n"
     ]
    }
   ],
   "source": [
    "# Retrieve a list of filenames for the dataset \"ttsemilep\"\n",
    "filenames = get_files_for_dataset(\"Met_collision\", random=True)\n",
    "\n",
    "print(filenames)"
   ]
  },
  {
   "cell_type": "code",
   "execution_count": 4,
   "id": "b9554ee9-5e42-4564-bb4f-fac5c8b069c2",
   "metadata": {},
   "outputs": [
    {
     "name": "stdout",
     "output_type": "stream",
     "text": [
      "Successfully opened root://eospublic.cern.ch//eos/opendata/cms/Run2016G/MET/NANOAOD/UL2016_MiniAODv2_NanoAODv9-v1/1110000/498DAB22-324C-A744-9F94-B9403276F9FC.root\n",
      "\n",
      "Successfully opened root://eospublic.cern.ch//eos/opendata/cms/Run2016G/MET/NANOAOD/UL2016_MiniAODv2_NanoAODv9-v1/270000/0485102E-7DF7-8641-BBBB-E76473C455E2.root\n",
      "\n",
      "Successfully opened root://eospublic.cern.ch//eos/opendata/cms/Run2016G/MET/NANOAOD/UL2016_MiniAODv2_NanoAODv9-v1/270000/0AADFEBE-F652-FF44-B0A4-5954D894D308.root\n",
      "\n",
      "Successfully opened root://eospublic.cern.ch//eos/opendata/cms/Run2016G/MET/NANOAOD/UL2016_MiniAODv2_NanoAODv9-v1/270000/0EC589CC-D2FA-1446-9A1E-74ED4A779498.root\n",
      "\n",
      "Successfully opened root://eospublic.cern.ch//eos/opendata/cms/Run2016G/MET/NANOAOD/UL2016_MiniAODv2_NanoAODv9-v1/270000/13526412-8C47-4A49-A11C-CABB7F1C4AF7.root\n",
      "\n",
      "Successfully opened root://eospublic.cern.ch//eos/opendata/cms/Run2016G/MET/NANOAOD/UL2016_MiniAODv2_NanoAODv9-v1/270000/178B2AD7-9C20-9545-925B-5233A1C03B9D.root\n",
      "\n",
      "Successfully opened root://eospublic.cern.ch//eos/opendata/cms/Run2016G/MET/NANOAOD/UL2016_MiniAODv2_NanoAODv9-v1/270000/1ED9314C-5C6A-6F4F-8467-BFD8A8024781.root\n",
      "\n",
      "Successfully opened root://eospublic.cern.ch//eos/opendata/cms/Run2016G/MET/NANOAOD/UL2016_MiniAODv2_NanoAODv9-v1/270000/51DD2D9D-496F-5E4D-BA61-5BBD952631CA.root\n",
      "\n",
      "Successfully opened root://eospublic.cern.ch//eos/opendata/cms/Run2016G/MET/NANOAOD/UL2016_MiniAODv2_NanoAODv9-v1/270000/6A4F07DD-F1D1-164F-B509-AFBA9877D6D5.root\n",
      "\n",
      "Successfully opened root://eospublic.cern.ch//eos/opendata/cms/Run2016G/MET/NANOAOD/UL2016_MiniAODv2_NanoAODv9-v1/270000/7036A078-EB71-3C49-BB25-BBE7F191A606.root\n",
      "\n",
      "Successfully opened root://eospublic.cern.ch//eos/opendata/cms/Run2016G/MET/NANOAOD/UL2016_MiniAODv2_NanoAODv9-v1/270000/88F48B67-EADD-C14F-BC13-19D5E52C28CC.root\n",
      "\n",
      "Successfully opened root://eospublic.cern.ch//eos/opendata/cms/Run2016G/MET/NANOAOD/UL2016_MiniAODv2_NanoAODv9-v1/270000/8E86E692-B324-2F49-9853-5335D371CDA3.root\n",
      "\n",
      "Successfully opened root://eospublic.cern.ch//eos/opendata/cms/Run2016G/MET/NANOAOD/UL2016_MiniAODv2_NanoAODv9-v1/270000/9FD09B43-C8E5-384B-9894-50160B606CEE.root\n",
      "\n",
      "Successfully opened root://eospublic.cern.ch//eos/opendata/cms/Run2016G/MET/NANOAOD/UL2016_MiniAODv2_NanoAODv9-v1/270000/A52A2155-40A4-AB4B-8FCC-60E16E1A6A84.root\n",
      "\n",
      "Successfully opened root://eospublic.cern.ch//eos/opendata/cms/Run2016G/MET/NANOAOD/UL2016_MiniAODv2_NanoAODv9-v1/270000/CE2F8BC4-D806-8041-A857-54CD636BCEC7.root\n",
      "\n",
      "Successfully opened root://eospublic.cern.ch//eos/opendata/cms/Run2016G/MET/NANOAOD/UL2016_MiniAODv2_NanoAODv9-v1/270000/D7A2449E-B767-D846-811E-235735B47141.root\n",
      "\n",
      "Successfully opened root://eospublic.cern.ch//eos/opendata/cms/Run2016G/MET/NANOAOD/UL2016_MiniAODv2_NanoAODv9-v1/270000/D937BCB9-279D-7741-B42C-5CC44E2B0E13.root\n",
      "\n",
      "Successfully opened root://eospublic.cern.ch//eos/opendata/cms/Run2016H/MET/NANOAOD/UL2016_MiniAODv2_NanoAODv9-v1/120000/16D21B45-0388-FF40-8872-B398D762F652.root\n",
      "\n",
      "Successfully opened root://eospublic.cern.ch//eos/opendata/cms/Run2016H/MET/NANOAOD/UL2016_MiniAODv2_NanoAODv9-v1/120000/2F8F8158-EA07-8941-A37E-667E096ADD52.root\n",
      "\n",
      "Successfully opened root://eospublic.cern.ch//eos/opendata/cms/Run2016H/MET/NANOAOD/UL2016_MiniAODv2_NanoAODv9-v1/120000/50BD6B95-B1F7-2B47-832F-4DE7F49D0D5C.root\n",
      "\n",
      "Successfully opened root://eospublic.cern.ch//eos/opendata/cms/Run2016H/MET/NANOAOD/UL2016_MiniAODv2_NanoAODv9-v1/120000/5F1C5DD5-A4DD-4D46-A97D-6A5B987FA8A9.root\n",
      "\n",
      "Successfully opened root://eospublic.cern.ch//eos/opendata/cms/Run2016H/MET/NANOAOD/UL2016_MiniAODv2_NanoAODv9-v1/120000/D30D02C2-C90F-2C4F-9541-D07EC52F79C9.root\n",
      "\n",
      "Successfully opened root://eospublic.cern.ch//eos/opendata/cms/Run2016H/MET/NANOAOD/UL2016_MiniAODv2_NanoAODv9-v1/120000/DFE14C99-E541-7845-8492-714D4F657B15.root\n",
      "\n",
      "Successfully opened root://eospublic.cern.ch//eos/opendata/cms/Run2016H/MET/NANOAOD/UL2016_MiniAODv2_NanoAODv9-v1/120000/E9959B82-5EBA-9E40-87F1-59632DBDF570.root\n",
      "\n",
      "Successfully opened root://eospublic.cern.ch//eos/opendata/cms/Run2016H/MET/NANOAOD/UL2016_MiniAODv2_NanoAODv9-v1/280000/1C037D8D-2092-2448-81A4-BE32B05BFB45.root\n",
      "\n",
      "Successfully opened root://eospublic.cern.ch//eos/opendata/cms/Run2016H/MET/NANOAOD/UL2016_MiniAODv2_NanoAODv9-v1/280000/3CAC8B62-13F2-184C-B88E-01BD3BBE812C.root\n",
      "\n",
      "Successfully opened root://eospublic.cern.ch//eos/opendata/cms/Run2016H/MET/NANOAOD/UL2016_MiniAODv2_NanoAODv9-v1/280000/C6108E30-026E-EB4D-8326-88A49C5E277B.root\n",
      "\n",
      "Successfully opened root://eospublic.cern.ch//eos/opendata/cms/Run2016H/MET/NANOAOD/UL2016_MiniAODv2_NanoAODv9-v1/280000/DEFF16E2-EA65-674C-AD6D-146DCD2FE776.root\n",
      "\n",
      "Successfully opened root://eospublic.cern.ch//eos/opendata/cms/Run2016H/MET/NANOAOD/UL2016_MiniAODv2_NanoAODv9-v1/70000/067468CF-34A9-074B-9DFD-FC2169DCD92D.root\n",
      "\n",
      "Successfully opened root://eospublic.cern.ch//eos/opendata/cms/Run2016H/MET/NANOAOD/UL2016_MiniAODv2_NanoAODv9-v1/70000/0FA6923F-953C-994F-A582-3E802C8E8684.root\n",
      "\n",
      "Successfully opened root://eospublic.cern.ch//eos/opendata/cms/Run2016H/MET/NANOAOD/UL2016_MiniAODv2_NanoAODv9-v1/70000/12EDD013-E22A-F94B-B133-5102325114B5.root\n",
      "\n",
      "Successfully opened root://eospublic.cern.ch//eos/opendata/cms/Run2016H/MET/NANOAOD/UL2016_MiniAODv2_NanoAODv9-v1/70000/1A4206E9-6196-7D4A-AE73-259F1A2626F2.root\n",
      "\n",
      "Successfully opened root://eospublic.cern.ch//eos/opendata/cms/Run2016H/MET/NANOAOD/UL2016_MiniAODv2_NanoAODv9-v1/70000/2C234794-1878-C346-816F-4784E317F724.root\n",
      "\n",
      "Successfully opened root://eospublic.cern.ch//eos/opendata/cms/Run2016H/MET/NANOAOD/UL2016_MiniAODv2_NanoAODv9-v1/70000/31CDC5DA-7D54-9E47-A9DF-BFCC9E234DE6.root\n",
      "\n",
      "Successfully opened root://eospublic.cern.ch//eos/opendata/cms/Run2016H/MET/NANOAOD/UL2016_MiniAODv2_NanoAODv9-v1/70000/38CF021F-30E8-944C-83E8-340150ABED49.root\n",
      "\n",
      "Successfully opened root://eospublic.cern.ch//eos/opendata/cms/Run2016H/MET/NANOAOD/UL2016_MiniAODv2_NanoAODv9-v1/70000/3F5352D0-5ADC-874E-B374-35F8511A6EC0.root\n",
      "\n",
      "Successfully opened root://eospublic.cern.ch//eos/opendata/cms/Run2016H/MET/NANOAOD/UL2016_MiniAODv2_NanoAODv9-v1/70000/4E629771-D94F-5A4C-B823-638CE23ECE2B.root\n",
      "\n",
      "Successfully opened root://eospublic.cern.ch//eos/opendata/cms/Run2016H/MET/NANOAOD/UL2016_MiniAODv2_NanoAODv9-v1/70000/52F8A7F3-6F0A-6C40-AAAB-399D4220213F.root\n",
      "\n",
      "Successfully opened root://eospublic.cern.ch//eos/opendata/cms/Run2016H/MET/NANOAOD/UL2016_MiniAODv2_NanoAODv9-v1/70000/7A2376C1-845E-8244-89F1-87879BCE9E8F.root\n",
      "\n",
      "Successfully opened root://eospublic.cern.ch//eos/opendata/cms/Run2016H/MET/NANOAOD/UL2016_MiniAODv2_NanoAODv9-v1/70000/7AF17841-CB77-6E4D-A6E7-42529320DFFF.root\n",
      "\n",
      "Successfully opened root://eospublic.cern.ch//eos/opendata/cms/Run2016H/MET/NANOAOD/UL2016_MiniAODv2_NanoAODv9-v1/70000/933D24FE-4BCD-3045-AD15-1977310BC953.root\n",
      "\n",
      "Successfully opened root://eospublic.cern.ch//eos/opendata/cms/Run2016H/MET/NANOAOD/UL2016_MiniAODv2_NanoAODv9-v1/70000/9E17CDB0-59D0-CD48-8D05-81CD9F59F457.root\n",
      "\n",
      "Successfully opened root://eospublic.cern.ch//eos/opendata/cms/Run2016H/MET/NANOAOD/UL2016_MiniAODv2_NanoAODv9-v1/70000/A313CD9B-864E-334C-B6DE-192DBE6F889C.root\n",
      "\n",
      "Successfully opened root://eospublic.cern.ch//eos/opendata/cms/Run2016H/MET/NANOAOD/UL2016_MiniAODv2_NanoAODv9-v1/70000/C236EE57-C505-4749-A781-996F90FB4C98.root\n",
      "\n",
      "Successfully opened root://eospublic.cern.ch//eos/opendata/cms/Run2016H/MET/NANOAOD/UL2016_MiniAODv2_NanoAODv9-v1/70000/C42412D7-7FA8-FA44-B636-9DDB703D1559.root\n",
      "\n",
      "Successfully opened root://eospublic.cern.ch//eos/opendata/cms/Run2016H/MET/NANOAOD/UL2016_MiniAODv2_NanoAODv9-v1/70000/D00D290E-BAF2-F540-8891-6C1E35AFE6ED.root\n",
      "\n",
      "Successfully opened root://eospublic.cern.ch//eos/opendata/cms/Run2016H/MET/NANOAOD/UL2016_MiniAODv2_NanoAODv9-v1/70000/D53F3A82-32F2-2C46-B4C3-FD95042ED7DB.root\n",
      "\n",
      "Successfully opened root://eospublic.cern.ch//eos/opendata/cms/Run2016H/MET/NANOAOD/UL2016_MiniAODv2_NanoAODv9-v1/70000/DDC71FF5-7777-6848-B8BB-AFFA9E049F26.root\n",
      "\n",
      "Successfully opened root://eospublic.cern.ch//eos/opendata/cms/Run2016H/MET/NANOAOD/UL2016_MiniAODv2_NanoAODv9-v1/70000/EEFFDC8A-F1A3-3A4D-BF9B-43406F3C81ED.root\n",
      "\n",
      "Total number of events: 66747616\n"
     ]
    }
   ],
   "source": [
    "total_events = 0\n",
    "\n",
    "# Opening each file in the filenames list\n",
    "for filename in filenames:\n",
    "    try:\n",
    "        # Opening the file with uproot\n",
    "        f = uproot.open(filename)\n",
    "\n",
    "        if \"Events\" in f:\n",
    "            \n",
    "            events = f[\"Events\"]\n",
    "            nevents = events.num_entries\n",
    "            total_events += nevents\n",
    "            \n",
    "        # Successful opening of file\n",
    "        print(f\"Successfully opened {filename}\")\n",
    "    \n",
    "    except Exception as e:\n",
    "        # If there is an error when opening the file, captures and prints the message\n",
    "        print(f\"Error opening {filename}: {e}\")\n",
    "print(f\"Total number of events: {total_events}\")"
   ]
  },
  {
   "cell_type": "code",
   "execution_count": 5,
   "id": "d36ad87a-6e3d-4975-a3d6-5a10ac4070a1",
   "metadata": {},
   "outputs": [
    {
     "name": "stdout",
     "output_type": "stream",
     "text": [
      "HLT_PFMETNoMu110_PFMHTNoMu110_IDTight    HLT_PFMETNoMu120_PFMHTNoMu120_IDTight    \n"
     ]
    }
   ],
   "source": [
    "pretty_print(events.keys(), fmt='40s', require=['HLT_PFMETNoMu'])"
   ]
  },
  {
   "cell_type": "code",
   "execution_count": 6,
   "id": "21b1bdbc-ce17-4d6e-8508-6319116e3c44",
   "metadata": {},
   "outputs": [
    {
     "name": "stdout",
     "output_type": "stream",
     "text": [
      "HLT_PFMET170_NotCleaned                  HLT_PFMET170_HBHECleaned                 \n",
      "HLT_PFMET170_BeamHaloCleaned             HLT_PFMET170_HBHE_BeamHaloCleaned        \n"
     ]
    }
   ],
   "source": [
    "pretty_print(events.keys(), fmt='40s', require=['HLT_PFMET170'])"
   ]
  },
  {
   "cell_type": "code",
   "execution_count": 7,
   "id": "f6bef555-019a-4753-b547-0789992f20da",
   "metadata": {},
   "outputs": [
    {
     "name": "stdout",
     "output_type": "stream",
     "text": [
      "HLT_MET75_IsoTrk50                       \n"
     ]
    }
   ],
   "source": [
    "pretty_print(events.keys(), fmt='40s', require=['HLT_MET75_IsoTrk50'])"
   ]
  }
 ],
 "metadata": {
  "kernelspec": {
   "display_name": "Python 3 (ipykernel)",
   "language": "python",
   "name": "python3"
  },
  "language_info": {
   "codemirror_mode": {
    "name": "ipython",
    "version": 3
   },
   "file_extension": ".py",
   "mimetype": "text/x-python",
   "name": "python",
   "nbconvert_exporter": "python",
   "pygments_lexer": "ipython3",
   "version": "3.10.12"
  }
 },
 "nbformat": 4,
 "nbformat_minor": 5
}
